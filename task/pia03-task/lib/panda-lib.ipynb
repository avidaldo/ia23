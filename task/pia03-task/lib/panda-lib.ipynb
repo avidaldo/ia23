{
 "cells": [
  {
   "cell_type": "markdown",
   "metadata": {},
   "source": [
    "<!-- cSpell:ignore iloc -->\n",
    "\n",
    "# lib Pandas\n",
    "\n",
    "#### Create `DataFrame` Object\n",
    "\n",
    "- `pd.read_csv(${path_csv})`\n",
    "- input `archivo.csv`\n",
    "- output object `pandas.core.frame.DataFrame`\n",
    "- `DataFrame.dtypes` muestra el tipo de datos de la tabla\n"
   ]
  },
  {
   "cell_type": "code",
   "execution_count": 20,
   "metadata": {},
   "outputs": [
    {
     "name": "stdout",
     "output_type": "stream",
     "text": [
      "A partir del archivo \"housing.csv\":\n",
      "\n",
      "Se crea un objeto: <class 'pandas.core.frame.DataFrame'> \n",
      "\n",
      "En el cual tenemos el siguiente esquema de datos:\n",
      "longitude             float64\n",
      "latitude              float64\n",
      "housing_median_age    float64\n",
      "total_rooms           float64\n",
      "total_bedrooms        float64\n",
      "population            float64\n",
      "households            float64\n",
      "median_income         float64\n",
      "median_house_value    float64\n",
      "ocean_proximity        object\n",
      "dtype: object\n"
     ]
    }
   ],
   "source": [
    "import pandas as pd\n",
    "\n",
    "# Creamos un DataFrame y lo asignamos a `data`\n",
    "df = pd.read_csv(\"../data/housing.csv\")\n",
    "\n",
    "# Obtenemos el tipo de objeto\n",
    "objType = type(df)\n",
    "\n",
    "# Obtenemos los tipos de datos del DataFrame\n",
    "dataType = df.dtypes\n",
    "\n",
    "# Mostramos la información\n",
    "print('A partir del archivo \"housing.csv\":\\n')\n",
    "print(\"Se crea un objeto:\", objType, \"\\n\")\n",
    "print(\"En el cual tenemos el siguiente esquema de datos:\")\n",
    "print(dataType)"
   ]
  },
  {
   "cell_type": "markdown",
   "metadata": {},
   "source": [
    "#### DataFrame Viewing data\n",
    "\n",
    "pandoc -s -o panda-lib-user-guide.md panda-lib-user-guide.rst\n",
    "\n",
    "- DataFrame.head() top rows\n",
    "- DataFrame.tail() bottom rows\n",
    "- DataFrame.index display index\n",
    "- DataFrame.columns display columns names\n",
    "- DataFrame.to_numpy() convert into a numpy array\n",
    "- DataFrame.describe() shows a quick statistic summary of your data\n",
    "- DataFrame.T Transposing your data:\n",
    "- DataFrame.sort_index() sorts by an axis:\n",
    "- DataFrame.sort_values() sorts by values:\n",
    "- DataFrame.[\"${ColumnName}\"] get items by column name\n"
   ]
  },
  {
   "cell_type": "code",
   "execution_count": 21,
   "metadata": {},
   "outputs": [
    {
     "name": "stdout",
     "output_type": "stream",
     "text": [
      "       longitude  latitude  housing_median_age  total_rooms  total_bedrooms  \\\n",
      "0        -122.23     37.88                41.0        880.0           129.0   \n",
      "1        -122.22     37.86                21.0       7099.0          1106.0   \n",
      "2        -122.24     37.85                52.0       1467.0           190.0   \n",
      "3        -122.25     37.85                52.0       1274.0           235.0   \n",
      "4        -122.25     37.85                52.0       1627.0           280.0   \n",
      "...          ...       ...                 ...          ...             ...   \n",
      "20635    -121.09     39.48                25.0       1665.0           374.0   \n",
      "20636    -121.21     39.49                18.0        697.0           150.0   \n",
      "20637    -121.22     39.43                17.0       2254.0           485.0   \n",
      "20638    -121.32     39.43                18.0       1860.0           409.0   \n",
      "20639    -121.24     39.37                16.0       2785.0           616.0   \n",
      "\n",
      "       population  households  median_income  median_house_value  \\\n",
      "0           322.0       126.0         8.3252            452600.0   \n",
      "1          2401.0      1138.0         8.3014            358500.0   \n",
      "2           496.0       177.0         7.2574            352100.0   \n",
      "3           558.0       219.0         5.6431            341300.0   \n",
      "4           565.0       259.0         3.8462            342200.0   \n",
      "...           ...         ...            ...                 ...   \n",
      "20635       845.0       330.0         1.5603             78100.0   \n",
      "20636       356.0       114.0         2.5568             77100.0   \n",
      "20637      1007.0       433.0         1.7000             92300.0   \n",
      "20638       741.0       349.0         1.8672             84700.0   \n",
      "20639      1387.0       530.0         2.3886             89400.0   \n",
      "\n",
      "      ocean_proximity  \n",
      "0            NEAR BAY  \n",
      "1            NEAR BAY  \n",
      "2            NEAR BAY  \n",
      "3            NEAR BAY  \n",
      "4            NEAR BAY  \n",
      "...               ...  \n",
      "20635          INLAND  \n",
      "20636          INLAND  \n",
      "20637          INLAND  \n",
      "20638          INLAND  \n",
      "20639          INLAND  \n",
      "\n",
      "[20640 rows x 10 columns]\n"
     ]
    }
   ],
   "source": [
    "print(df)"
   ]
  },
  {
   "cell_type": "markdown",
   "metadata": {},
   "source": []
  },
  {
   "cell_type": "markdown",
   "metadata": {},
   "source": [
    "##### DataFrame `cell`\n"
   ]
  },
  {
   "cell_type": "code",
   "execution_count": 22,
   "metadata": {},
   "outputs": [
    {
     "name": "stdout",
     "output_type": "stream",
     "text": [
      "celda (0,0)\n",
      " -122.23\n"
     ]
    }
   ],
   "source": [
    "# mostrar cabeceras\n",
    "# mostrar celda (0,0)\n",
    "print(\"celda (0,0)\\n\", df.iloc[0, 0])"
   ]
  },
  {
   "cell_type": "markdown",
   "metadata": {},
   "source": [
    "##### DataFrame `row`\n",
    "\n",
    "- `data.iloc[0, 0]`\n"
   ]
  },
  {
   "cell_type": "code",
   "execution_count": 23,
   "metadata": {},
   "outputs": [
    {
     "name": "stdout",
     "output_type": "stream",
     "text": [
      "[mostrar la fila 1]\n",
      "con head --> data.head(1)\n",
      "    longitude  latitude  housing_median_age  total_rooms  total_bedrooms  \\\n",
      "0    -122.23     37.88                41.0        880.0           129.0   \n",
      "\n",
      "   population  households  median_income  median_house_value ocean_proximity  \n",
      "0       322.0       126.0         8.3252            452600.0        NEAR BAY  \n",
      "con iloc --> data.iloc[0:1]\n",
      "    longitude  latitude  housing_median_age  total_rooms  total_bedrooms  \\\n",
      "0    -122.23     37.88                41.0        880.0           129.0   \n",
      "\n",
      "   population  households  median_income  median_house_value ocean_proximity  \n",
      "0       322.0       126.0         8.3252            452600.0        NEAR BAY  \n",
      "con iloc --> data.iloc[0:1]\n",
      "    longitude  latitude  housing_median_age  total_rooms  total_bedrooms  \\\n",
      "0    -122.23     37.88                41.0        880.0           129.0   \n",
      "\n",
      "   population  households  median_income  median_house_value ocean_proximity  \n",
      "0       322.0       126.0         8.3252            452600.0        NEAR BAY  \n",
      "fila (0,1)\n",
      "    longitude  latitude  housing_median_age  total_rooms  total_bedrooms  \\\n",
      "0    -122.23     37.88                41.0        880.0           129.0   \n",
      "\n",
      "   population  households  median_income  median_house_value ocean_proximity  \n",
      "0       322.0       126.0         8.3252            452600.0        NEAR BAY  \n",
      "fila (3,4)\n",
      "    longitude  latitude  housing_median_age  total_rooms  total_bedrooms  \\\n",
      "2    -122.24     37.85                52.0       1467.0           190.0   \n",
      "3    -122.25     37.85                52.0       1274.0           235.0   \n",
      "\n",
      "   population  households  median_income  median_house_value ocean_proximity  \n",
      "2       496.0       177.0         7.2574            352100.0        NEAR BAY  \n",
      "3       558.0       219.0         5.6431            341300.0        NEAR BAY  \n"
     ]
    }
   ],
   "source": [
    "# mostrar la fila 1\n",
    "print(\"[mostrar la fila 1]\")\n",
    "print(\"con head --> data.head(1)\\n\", df.head(1))\n",
    "print(\"con iloc --> data.iloc[:1]\\n\", df.iloc[:1])\n",
    "print(\"con iloc --> data.iloc[0:1]\\n\", df.iloc[0:1])\n",
    "# mostrar la fila 3 y 4 (2,4)\n",
    "print(\"fila (0,1)\\n\", df.iloc[0:1])\n",
    "# mostrar la fila 3 y 4 (2,4)\n",
    "print(\"fila (3,4)\\n\", df.iloc[2:4])"
   ]
  },
  {
   "cell_type": "markdown",
   "metadata": {},
   "source": [
    "##### DataFrame acceso `column`\n",
    "\n",
    "- `data.iloc[0, 0]`\n"
   ]
  },
  {
   "cell_type": "code",
   "execution_count": 24,
   "metadata": {},
   "outputs": [
    {
     "name": "stdout",
     "output_type": "stream",
     "text": [
      "0       -122.23\n",
      "1       -122.22\n",
      "2       -122.24\n",
      "3       -122.25\n",
      "4       -122.25\n",
      "          ...  \n",
      "20635   -121.09\n",
      "20636   -121.21\n",
      "20637   -121.22\n",
      "20638   -121.32\n",
      "20639   -121.24\n",
      "Name: longitude, Length: 20640, dtype: float64\n",
      "0       -122.23\n",
      "1       -122.22\n",
      "2       -122.24\n",
      "3       -122.25\n",
      "4       -122.25\n",
      "          ...  \n",
      "20635   -121.09\n",
      "20636   -121.21\n",
      "20637   -121.22\n",
      "20638   -121.32\n",
      "20639   -121.24\n",
      "Name: longitude, Length: 20640, dtype: float64\n",
      "muestame desde la columna `1` hasta la `3`  --> df.iloc[:, [1, 3]]\n",
      "        latitude  total_rooms\n",
      "0         37.88        880.0\n",
      "1         37.86       7099.0\n",
      "2         37.85       1467.0\n",
      "3         37.85       1274.0\n",
      "4         37.85       1627.0\n",
      "...         ...          ...\n",
      "20635     39.48       1665.0\n",
      "20636     39.49        697.0\n",
      "20637     39.43       2254.0\n",
      "20638     39.43       1860.0\n",
      "20639     39.37       2785.0\n",
      "\n",
      "[20640 rows x 2 columns]\n"
     ]
    }
   ],
   "source": [
    "# [mostrar primera columna]\n",
    "# Por nombre de columna\n",
    "print(df[\"longitude\"])\n",
    "# Por posición\n",
    "print(df.iloc[:, 0])\n",
    "\n",
    "# mostrar columna (2,4)\n",
    "print(\n",
    "    \"muestame desde la columna `1` hasta la `3`  --> df.iloc[:, [1, 3]]\\n\",\n",
    "    df.iloc[:, [1, 3]],\n",
    ")"
   ]
  }
 ],
 "metadata": {
  "kernelspec": {
   "display_name": "env-py38",
   "language": "python",
   "name": "python3"
  },
  "language_info": {
   "codemirror_mode": {
    "name": "ipython",
    "version": 3
   },
   "file_extension": ".py",
   "mimetype": "text/x-python",
   "name": "python",
   "nbconvert_exporter": "python",
   "pygments_lexer": "ipython3",
   "version": "3.8.18"
  }
 },
 "nbformat": 4,
 "nbformat_minor": 2
}
