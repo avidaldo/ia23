{
  "cells": [
    {
      "cell_type": "markdown",
      "metadata": {},
      "source": [
        "### Manera tradicional\n"
      ]
    },
    {
      "cell_type": "markdown",
      "metadata": {},
      "source": [
        "### 1 creamos los directorios y los archivos\n",
        "\n",
        "Para ver el esquema de directorios\n",
        "`sudo apt  install tree`\n",
        "`tree ${ruta_directorio}`\n"
      ]
    },
    {
      "cell_type": "code",
      "execution_count": 1,
      "metadata": {},
      "outputs": [],
      "source": [
        "# /preprocessing\n",
        "# ├── data\n",
        "# │   ├── california.png\n",
        "# │   └── housing.csv\n",
        "# ├── main.py\n",
        "# └── utils\n",
        "#     ├── dataPrepare.py\n",
        "#     ├── dataProcessKNNImputer.py\n",
        "#     ├── dataProcessSimpleImputer.py"
      ]
    },
    {
      "cell_type": "markdown",
      "metadata": {},
      "source": [
        "### 2. en main.py hacemos las importaciones necesarias\n"
      ]
    },
    {
      "cell_type": "code",
      "execution_count": 2,
      "metadata": {},
      "outputs": [],
      "source": [
        "# Importa las funciones definidas en utils\n",
        "from utils.dataPrepare import DataPrepare\n",
        "from utils.dataProcessSimpleImputer import DataProcessSimpleImputer\n",
        "from utils.dataProcessKNNImputer import DataProcessKNNImputer"
      ]
    },
    {
      "cell_type": "markdown",
      "metadata": {},
      "source": [
        "### 3. Ejecutamos main.py\n",
        "\n",
        "python main.py\n",
        "\n",
        "Enlaces al código\n",
        "\n",
        "- [main](./preprocessing/main.py)\n",
        "- [DataPrepare](./preprocessing/utils/dataPrepare.py)\n",
        "- [DataProcessSimpleImputer](./preprocessing/utils/dataProcessSimpleImputer.py)\n",
        "- [DataProcessKNNImputer](./preprocessing/utils/dataProcessKNNImputer.py)\n"
      ]
    }
  ],
  "metadata": {
    "kernelspec": {
      "display_name": "env-py38",
      "language": "python",
      "name": "python3"
    },
    "language_info": {
      "codemirror_mode": {
        "name": "ipython",
        "version": 3
      },
      "file_extension": ".py",
      "mimetype": "text/x-python",
      "name": "python",
      "nbconvert_exporter": "python",
      "pygments_lexer": "ipython3",
      "version": "3.8.18"
    }
  },
  "nbformat": 4,
  "nbformat_minor": 2
}
