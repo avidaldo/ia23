{
 "cells": [
  {
   "cell_type": "markdown",
   "metadata": {},
   "source": [
    "# Ejercicios Python 2\n"
   ]
  },
  {
   "cell_type": "code",
   "execution_count": 1,
   "metadata": {},
   "outputs": [],
   "source": [
    "import numpy as np  # Para las versiones con NumPy"
   ]
  },
  {
   "cell_type": "markdown",
   "metadata": {},
   "source": [
    "## Función que recibe una lista y devuelve otra eliminando sus duplicados\n"
   ]
  },
  {
   "cell_type": "markdown",
   "metadata": {},
   "source": [
    "### Soluciones con listas\n"
   ]
  },
  {
   "cell_type": "code",
   "execution_count": 15,
   "metadata": {},
   "outputs": [
    {
     "name": "stdout",
     "output_type": "stream",
     "text": [
      "[1, 2, 3, 4, 5, 6, 7, 8, 9]\n",
      "[2, 3, 4, 5, 6, 7, 8, 9, 1]\n",
      "[1, 2, 3, 4, 5, 6, 7, 8, 9]\n",
      "[1, 2, 3, 4, 5, 6, 7, 8, 9]\n",
      "[True, 2, 3, 4, 5, 6, 7, 8, 9]\n",
      "[1, 2, 3, 4, 5, 6, 7, 8, 9]\n",
      "['1', 2, 3, 4, 5, 6, 7, 8, 9, 1]\n"
     ]
    }
   ],
   "source": [
    "def elimina_duplicados_for(lista):\n",
    "    \"\"\"Recorriendo la lista y añadiendo a otra lista los elementos que no estén ya en ella\"\"\"\n",
    "    lista2 = []\n",
    "    for elem in lista:\n",
    "        if elem not in lista2:\n",
    "            lista2.append(elem)\n",
    "    return lista2\n",
    "\n",
    "\n",
    "def elimina_duplicados_comprehension(lista):\n",
    "    \"\"\"Idéntica a la anterior usando listas por comprehensión\"\"\"\n",
    "    lista2 = []\n",
    "    [lista2.append(elem) for elem in lista if elem not in lista2]\n",
    "    return lista2\n",
    "\n",
    "\n",
    "def elimina_duplicados_set(lista):\n",
    "    \"\"\"Convirtiendo a conjunto (un conjunto por definición no puede tener elementos repetidos).\n",
    "    Pierde el orden de los elementos\"\"\"\n",
    "    return list(set(lista))\n",
    "\n",
    "\n",
    "def elimina_duplicados_enumerate(lista):\n",
    "    \"\"\"Usando enumerate para recorrer la lista y comprobar si el elemento está en la lista hasta el indice actual\"\"\"\n",
    "    return [v for i, v in enumerate(lista) if v not in lista[:i]]\n",
    "\n",
    "\n",
    "def elimina_duplicados_for_enumerate(lista):\n",
    "    \"\"\"Igual que el anterior, pero imperativo\"\"\"\n",
    "    lista2 = []\n",
    "    for i, v in enumerate(lista):\n",
    "        if v not in lista[:i]:\n",
    "            lista2.append(v)\n",
    "    return lista2\n",
    "\n",
    "\n",
    "# Test\n",
    "print(elimina_duplicados_for_enumerate([1, 2, 3, 4, 5, 6, 7, 8, 9, 1]))\n",
    "print(elimina_duplicados_for_enumerate([2, 3, 4, 5, 6, 7, 8, 9, 1, 1, 1]))\n",
    "print(elimina_duplicados_set([1, 2, 3, 4, 5, 6, 7, 8, 9, 1, 1]))\n",
    "print(elimina_duplicados_for_enumerate([1, 2, 1, 1, 3, 4, 5, 6, 7, 8, 9, 1, 1, 2]))\n",
    "print(\n",
    "    elimina_duplicados_for_enumerate([True, 2, True, 3, 4, 5, 6, 7, 8, 9, True, 1, 1])\n",
    ")  # True == 1\n",
    "print(\n",
    "    elimina_duplicados_for_enumerate([1, 2, True, 3, 4, 5, 6, 7, 8, 9, True, 1, 1])\n",
    ")  # True == 1\n",
    "print(elimina_duplicados_for_enumerate([\"1\", 2, \"1\", 3, 4, 5, 6, 7, 8, 9, \"1\", 1, 1]))"
   ]
  },
  {
   "cell_type": "markdown",
   "metadata": {},
   "source": [
    "### Solución con NumPy\n"
   ]
  },
  {
   "cell_type": "code",
   "execution_count": 3,
   "metadata": {},
   "outputs": [
    {
     "name": "stdout",
     "output_type": "stream",
     "text": [
      "[1, 2, 3, 4, 5, 6, 7, 8, 9]\n",
      "[1, 2, 3, 4, 5, 6, 7, 8, 9]\n",
      "[1, 2, 3, 4, 5, 6, 7, 8, 9]\n",
      "[1, 2, 3, 4, 5, 6, 7, 8, 9]\n",
      "[1, 2, 3, 4, 5, 6, 7, 8, 9]\n",
      "['1', '2', '3', '4', '5', '6', '7', '8', '9']\n"
     ]
    }
   ],
   "source": [
    "def elimina_duplicados_numpy(lista):\n",
    "    return list(np.unique(lista))\n",
    "\n",
    "\n",
    "# Test\n",
    "print(elimina_duplicados_numpy([1, 2, 3, 4, 5, 6, 7, 8, 9, 1]))\n",
    "print(\n",
    "    elimina_duplicados_numpy([2, 3, 4, 5, 6, 7, 8, 9, 1, 1, 1])\n",
    ")  # Numpy no mantiene el orden\n",
    "print(elimina_duplicados_numpy([1, 2, 1, 1, 3, 4, 5, 6, 7, 8, 9, 1, 1, 2]))\n",
    "print(elimina_duplicados_numpy([True, 2, True, 3, 4, 5, 6, 7, 8, 9, True, 1, 1]))\n",
    "print(elimina_duplicados_numpy([1, 2, True, 3, 4, 5, 6, 7, 8, 9, True, 1, 1]))\n",
    "print(elimina_duplicados_numpy([\"1\", 2, \"1\", 3, 4, 5, 6, 7, 8, 9, \"1\", 1, 1]))"
   ]
  },
  {
   "cell_type": "markdown",
   "metadata": {},
   "source": [
    "### Variante: eliminar duplicados de ndarrays\n"
   ]
  },
  {
   "cell_type": "code",
   "execution_count": 4,
   "metadata": {},
   "outputs": [
    {
     "name": "stdout",
     "output_type": "stream",
     "text": [
      "[1 2 3 4 5 6 7 8 9]\n",
      "[1 2 3 4 5 6 7 8 9]\n",
      "[1 2 3 4 5 6 7 8 9]\n",
      "[1 2 1 3 4 5 6 7 8 9 1 1 1]\n",
      "int32\n",
      "[1 2 3 4 5 6 7 8 9]\n",
      "['1' '2' '3' '4' '5' '6' '7' '8' '9']\n"
     ]
    }
   ],
   "source": [
    "# No hace falta definir una nueva función. NumPy ya tiene una función para eliminar duplicados.\n",
    "\n",
    "# Test\n",
    "print(np.unique(np.array([1, 2, 3, 4, 5, 6, 7, 8, 9, 1])))\n",
    "print(\n",
    "    np.unique(np.array([2, 3, 4, 5, 6, 7, 8, 9, 1, 1, 1]))\n",
    ")  # Numpy no mantiene el orden\n",
    "print(np.unique(np.array([1, 2, 1, 1, 3, 4, 5, 6, 7, 8, 9, 1, 1, 2])))\n",
    "\n",
    "# En este caso ya asigna un 1 a True al crear el array y no al procesar con unique\n",
    "array_test_tipos = np.array([True, 2, True, 3, 4, 5, 6, 7, 8, 9, True, 1, 1])\n",
    "print(array_test_tipos)\n",
    "print(\n",
    "    array_test_tipos.dtype\n",
    ")  # Elige el tipo en el que \"caben\" todos los elementos (casteando)\n",
    "\n",
    "print(np.unique(np.array([1, 2, True, 3, 4, 5, 6, 7, 8, 9, True, 1, 1])))\n",
    "print(np.unique(np.array([\"1\", 2, \"1\", 3, 4, 5, 6, 7, 8, 9, \"1\", 1, 1])))"
   ]
  },
  {
   "cell_type": "markdown",
   "metadata": {},
   "source": [
    "## Función que recibe una lista de listas y devuelve otra eliminando sus duplicados\n"
   ]
  },
  {
   "cell_type": "code",
   "execution_count": 5,
   "metadata": {},
   "outputs": [
    {
     "name": "stdout",
     "output_type": "stream",
     "text": [
      "[[1, 2, 3], [5], []]\n",
      "[[1, 2, 3], [4], [5, 6]]\n"
     ]
    }
   ],
   "source": [
    "def elimina_duplicados_en_sublistas(lista_sublistas):\n",
    "    recorridos = set()\n",
    "    nueva = []\n",
    "    for sublista in lista_sublistas:\n",
    "        nueva_sublista = []\n",
    "        for elem in sublista:\n",
    "            if elem not in recorridos:\n",
    "                nueva_sublista.append(elem)\n",
    "                recorridos.add(elem)\n",
    "        nueva.append(nueva_sublista)\n",
    "    return nueva\n",
    "\n",
    "\n",
    "# Test\n",
    "print(elimina_duplicados_en_sublistas([[1, 2, 3], [1, 5, 3], [1, 2, 3]]))\n",
    "print(elimina_duplicados_en_sublistas([[1, 2, 3], [2, 3, 4], [4, 5, 6]]))"
   ]
  },
  {
   "cell_type": "markdown",
   "metadata": {},
   "source": [
    "## Función que recibe una matriz de NumPy y devuelve otra sustituyendo los valores repetidos por NaN\n"
   ]
  },
  {
   "cell_type": "code",
   "execution_count": 6,
   "metadata": {},
   "outputs": [
    {
     "name": "stdout",
     "output_type": "stream",
     "text": [
      "[[ 1.  2.  3.]\n",
      " [nan nan nan]\n",
      " [nan nan nan]]\n",
      "[[1 2 3]\n",
      " [1 2 3]\n",
      " [1 2 3]]\n",
      "[[ 1. nan  3.]\n",
      " [nan  5.  7.]\n",
      " [ 8.  2. nan]]\n"
     ]
    }
   ],
   "source": [
    "def elimina_duplicados_matriz_numpy(matriz: np.ndarray):\n",
    "    matriz = matriz.astype(\n",
    "        float\n",
    "    )  # NaN es un indicador de que un elemento no es un número, pero es de tipo float\n",
    "    ya_vistos = set()  # Conjunto de elementos\n",
    "    for i, fila in enumerate(matriz):\n",
    "        for j, elem in enumerate(fila):\n",
    "            if elem in ya_vistos:\n",
    "                matriz[i][j] = np.nan\n",
    "            ya_vistos.add(elem)\n",
    "    return matriz\n",
    "\n",
    "\n",
    "array_t = np.array([[1, 2, 3], [1, 2, 3], [1, 2, 3]])\n",
    "print(elimina_duplicados_matriz_numpy(array_t))\n",
    "print(array_t)\n",
    "\n",
    "# Test\n",
    "print(elimina_duplicados_matriz_numpy(np.array([[1, 1, 3], [3, 5, 7], [8, 2, 3]])))"
   ]
  },
  {
   "cell_type": "markdown",
   "metadata": {},
   "source": [
    "## Función que recibe una lista y devuelve un diccionario con el número de veces que aparece cada elemento.\n",
    "\n",
    "Las claves del diccionario deben ser los elementos de la lista y los valores deben ser el número de veces que aparece dicho elemento en la lista\n"
   ]
  },
  {
   "cell_type": "markdown",
   "metadata": {},
   "source": [
    "### Solución con listas\n"
   ]
  },
  {
   "cell_type": "code",
   "execution_count": 7,
   "metadata": {},
   "outputs": [
    {
     "name": "stdout",
     "output_type": "stream",
     "text": [
      "{1: 3, 2: 1, 3: 1, 4: 1, 5: 1, 6: 1, 7: 1, 8: 1, 9: 1}\n",
      "{1: 5, 2: 2, 3: 1, 4: 1, 5: 1, 6: 1, 7: 1, 8: 1, 9: 1}\n",
      "{True: 5, 2: 1, 3: 1, 4: 1, 5: 1, 6: 1, 7: 1, 8: 1, 9: 1}\n",
      "{'1': 3, 2: 1, 3: 1, 4: 1, 5: 1, 6: 1, 7: 1, 8: 1, 9: 1, 1: 2}\n"
     ]
    }
   ],
   "source": [
    "def cuenta_elementos(lista):\n",
    "    dicc = {}\n",
    "    for elemento in lista:\n",
    "        if elemento in dicc:\n",
    "            dicc[elemento] += 1\n",
    "        else:\n",
    "            dicc[elemento] = 1\n",
    "    return dicc\n",
    "\n",
    "\n",
    "# Test\n",
    "print(cuenta_elementos([1, 2, 3, 4, 5, 6, 7, 8, 9, 1, 1]))\n",
    "print(cuenta_elementos([1, 2, 1, 1, 3, 4, 5, 6, 7, 8, 9, 1, 1, 2]))\n",
    "print(cuenta_elementos([True, 2, True, 3, 4, 5, 6, 7, 8, 9, True, 1, 1]))  # True == 1\n",
    "print(cuenta_elementos([\"1\", 2, \"1\", 3, 4, 5, 6, 7, 8, 9, \"1\", 1, 1]))"
   ]
  },
  {
   "cell_type": "markdown",
   "metadata": {},
   "source": [
    "### Solución con NumPy\n"
   ]
  },
  {
   "cell_type": "code",
   "execution_count": 8,
   "metadata": {},
   "outputs": [
    {
     "name": "stdout",
     "output_type": "stream",
     "text": [
      "{1: 3, 2: 1, 3: 1, 4: 1, 5: 1, 6: 1, 7: 1, 8: 1, 9: 1}\n",
      "{1: 5, 2: 2, 3: 1, 4: 1, 5: 1, 6: 1, 7: 1, 8: 1, 9: 1}\n",
      "{1: 5, 2: 1, 3: 1, 4: 1, 5: 1, 6: 1, 7: 1, 8: 1, 9: 1}\n",
      "{'1': 5, '2': 1, '3': 1, '4': 1, '5': 1, '6': 1, '7': 1, '8': 1, '9': 1}\n"
     ]
    }
   ],
   "source": [
    "def valores_con_frecuencias(vector):\n",
    "    return dict(zip(*np.unique(vector, return_counts=True)))\n",
    "\n",
    "\n",
    "# Test\n",
    "print(valores_con_frecuencias([1, 2, 3, 4, 5, 6, 7, 8, 9, 1, 1]))\n",
    "print(valores_con_frecuencias([1, 2, 1, 1, 3, 4, 5, 6, 7, 8, 9, 1, 1, 2]))\n",
    "print(valores_con_frecuencias([True, 2, True, 3, 4, 5, 6, 7, 8, 9, True, 1, 1]))\n",
    "print(valores_con_frecuencias([\"1\", 2, \"1\", 3, 4, 5, 6, 7, 8, 9, \"1\", 1, 1]))"
   ]
  },
  {
   "cell_type": "code",
   "execution_count": 9,
   "metadata": {},
   "outputs": [
    {
     "name": "stdout",
     "output_type": "stream",
     "text": [
      "{1: 3, 2: 1, 3: 1, 4: 1, 5: 1, 6: 1, 7: 1, 8: 1, 9: 1}\n",
      "{1: 5, 2: 2, 3: 1, 4: 1, 5: 1, 6: 1, 7: 1, 8: 1, 9: 1}\n",
      "{1: 5, 2: 1, 3: 1, 4: 1, 5: 1, 6: 1, 7: 1, 8: 1, 9: 1}\n",
      "{'1': 5, '2': 1, '3': 1, '4': 1, '5': 1, '6': 1, '7': 1, '8': 1, '9': 1}\n"
     ]
    }
   ],
   "source": [
    "def valores_con_frecuencias(array: np.array):\n",
    "    return dict((x, np.count_nonzero(array == x)) for x in array)\n",
    "\n",
    "\n",
    "# Solo funciona específicamente con ndarrays ya que la igualdad array == x devuelve un array de booleanos\n",
    "\n",
    "# Test\n",
    "print(valores_con_frecuencias(np.array([1, 2, 3, 4, 5, 6, 7, 8, 9, 1, 1])))\n",
    "print(valores_con_frecuencias(np.array([1, 2, 1, 1, 3, 4, 5, 6, 7, 8, 9, 1, 1, 2])))\n",
    "print(\n",
    "    valores_con_frecuencias(np.array([True, 2, True, 3, 4, 5, 6, 7, 8, 9, True, 1, 1]))\n",
    ")\n",
    "print(valores_con_frecuencias(np.array([\"1\", 2, \"1\", 3, 4, 5, 6, 7, 8, 9, \"1\", 1, 1])))"
   ]
  },
  {
   "cell_type": "markdown",
   "metadata": {},
   "source": [
    "## Función que recibe dos matrices cuadradas (NxN) y devuelve una tercera matriz que contiene el valor 1 en las posiciones en que el valor de A y B coinciden y 0 en caso contrario.\n"
   ]
  },
  {
   "cell_type": "markdown",
   "metadata": {},
   "source": [
    "### Soluciones con listas\n"
   ]
  },
  {
   "cell_type": "code",
   "execution_count": 10,
   "metadata": {},
   "outputs": [
    {
     "name": "stdout",
     "output_type": "stream",
     "text": [
      "[[1, 0, 0], [0, 1, 0], [0, 0, 1]]\n"
     ]
    }
   ],
   "source": [
    "def valores_iguales_matriz(matriz1, matriz2):\n",
    "    matriz3 = []\n",
    "    for i, fila in enumerate(matriz1):\n",
    "        matriz3.append([])\n",
    "        for j, elem in enumerate(fila):\n",
    "            if elem == matriz2[i][j]:\n",
    "                matriz3[i].append(1)\n",
    "            else:\n",
    "                matriz3[i].append(0)\n",
    "    return matriz3\n",
    "\n",
    "\n",
    "def valores_iguales_matriz_comprehension(matriz1, matriz2):\n",
    "    return [\n",
    "        [1 if elem == matriz2[i][j] else 0 for j, elem in enumerate(fila)]\n",
    "        for i, fila in enumerate(matriz1)\n",
    "    ]\n",
    "\n",
    "\n",
    "# Tests\n",
    "matriz1 = [[1, 2, 3], [4, 5, 6], [7, 8, 9]]  # Matriz 3x3\n",
    "lista_listas2 = [[1, 5, 6], [7, 5, 9], [1, 2, 9]]  # Matriz 3x3\n",
    "print(\n",
    "    valores_iguales_matriz(matriz1, lista_listas2)\n",
    ")  # Debería mostrar una matriz identidad\n",
    "assert valores_iguales_matriz(matriz1, lista_listas2) == [\n",
    "    [1, 0, 0],\n",
    "    [0, 1, 0],\n",
    "    [0, 0, 1],\n",
    "]\n",
    "\n",
    "assert valores_iguales_matriz_comprehension(matriz1, lista_listas2) == [\n",
    "    [1, 0, 0],\n",
    "    [0, 1, 0],\n",
    "    [0, 0, 1],\n",
    "]"
   ]
  },
  {
   "cell_type": "markdown",
   "metadata": {},
   "source": [
    "### Solución con NumPy\n"
   ]
  },
  {
   "cell_type": "code",
   "execution_count": 11,
   "metadata": {},
   "outputs": [
    {
     "name": "stdout",
     "output_type": "stream",
     "text": [
      "[[1 0 0]\n",
      " [0 1 0]\n",
      " [0 0 1]]\n"
     ]
    }
   ],
   "source": [
    "def valores_iguales_matriz_numpy(matriz1: np.array, matriz2: np.array):\n",
    "    return np.where(matriz1 == matriz2, 1, 0)\n",
    "\n",
    "\n",
    "# Tests\n",
    "matriz1 = np.array([[1, 2, 3], [4, 5, 6], [7, 8, 9]])  # Matriz 3x3\n",
    "lista_listas2 = np.array([[1, 5, 6], [7, 5, 9], [1, 2, 9]])  # Matriz 3x3\n",
    "print(\n",
    "    valores_iguales_matriz_numpy(matriz1, lista_listas2)\n",
    ")  # Debería mostrar una matriz identidad\n",
    "assert np.array_equal(\n",
    "    valores_iguales_matriz_numpy(matriz1, lista_listas2),\n",
    "    [[1, 0, 0], [0, 1, 0], [0, 0, 1]],\n",
    ")"
   ]
  },
  {
   "cell_type": "code",
   "execution_count": 12,
   "metadata": {},
   "outputs": [
    {
     "name": "stdout",
     "output_type": "stream",
     "text": [
      "[[1 0 0]\n",
      " [0 1 0]\n",
      " [0 0 1]]\n"
     ]
    }
   ],
   "source": [
    "def valores_iguales_matriz_numpy(matriz1: np.array, matriz2: np.array):\n",
    "    return (matriz1 == matriz2).astype(int)\n",
    "\n",
    "\n",
    "# Tests\n",
    "matriz1 = np.array([[1, 2, 3], [4, 5, 6], [7, 8, 9]])  # Matriz 3x3\n",
    "lista_listas2 = np.array([[1, 5, 6], [7, 5, 9], [1, 2, 9]])  # Matriz 3x3\n",
    "print(\n",
    "    valores_iguales_matriz_numpy(matriz1, lista_listas2)\n",
    ")  # Debería mostrar una matriz identidad\n",
    "assert np.array_equal(\n",
    "    valores_iguales_matriz_numpy(matriz1, lista_listas2),\n",
    "    [[1, 0, 0], [0, 1, 0], [0, 0, 1]],\n",
    ")"
   ]
  },
  {
   "cell_type": "markdown",
   "metadata": {},
   "source": [
    "## Función que recibe una matriz y busca sus puntos de silla o _saddle points_ (máximos de su fila y mínimos de su columna o viceversa). Debe devolver una lista de tuplas con las coordenadas de los puntos de silla.\n"
   ]
  },
  {
   "cell_type": "markdown",
   "metadata": {},
   "source": [
    "### Soluciones con listas\n"
   ]
  },
  {
   "cell_type": "code",
   "execution_count": 13,
   "metadata": {},
   "outputs": [
    {
     "name": "stdout",
     "output_type": "stream",
     "text": [
      "Tests pasados con éxito\n"
     ]
    }
   ],
   "source": [
    "def find_saddle_points(matrix, only_max_row=True):\n",
    "    \"\"\"only_max_row=False: Busca los máximos de cada fila que son mínimos columna y también los mínimos de fila que son máximos de columna\"\"\"\n",
    "    saddle_points = set()\n",
    "\n",
    "    for irow, row in enumerate(matrix):  # Para cada fila\n",
    "        # Buscamos los máximos de cada fila que son mínimos columna\n",
    "\n",
    "        max_row = max(row)  # Máximo de esa fila\n",
    "        i_max_row = [\n",
    "            i for i, _ in enumerate(row) if row[i] == max_row\n",
    "        ]  # Índices donde está ese máximo\n",
    "\n",
    "        for i in i_max_row:  # Para cada índice donde está el máximo de la fila\n",
    "            min_col_i = min(\n",
    "                [row[i] for row in matrix]\n",
    "            )  # Mínimo de la columna de ese máximo\n",
    "            if (\n",
    "                max_row == min_col_i\n",
    "            ):  # Si el máximo de la fila es igual al mínimo de la columna en que está\n",
    "                saddle_points.add((irow, i))\n",
    "\n",
    "        if not only_max_row:  # Y en este caso, buscamos también los mínimos de cada columna que son máximos fila\n",
    "            min_row = min(row)  # Mínimo de esa fila\n",
    "            i_min_row = [\n",
    "                i for i, _ in enumerate(row) if row[i] == min_row\n",
    "            ]  # Índices donde está ese mínimo\n",
    "\n",
    "            for i in i_min_row:\n",
    "                max_col_i = max(\n",
    "                    [row[i] for row in matrix]\n",
    "                )  # Máximo de la columna de ese mínimo\n",
    "                if min_row == max_col_i:\n",
    "                    saddle_points.add((irow, i))\n",
    "\n",
    "    return list(saddle_points)\n",
    "\n",
    "\n",
    "def test_find_saddle_points():\n",
    "    matrix1 = [[1, 2, 3], [4, 5, 6], [7, 8, 9]]\n",
    "    assert find_saddle_points(matrix1) == [(0, 2)], \"Falló el test 1a\"\n",
    "    assert find_saddle_points(matrix1, only_max_row=False) == [\n",
    "        (0, 2),\n",
    "        (2, 0),\n",
    "    ], \"Falló el test 1b\"\n",
    "\n",
    "    matrix2 = [[1, 2, 3], [3, 2, 1], [2, 2, 2]]\n",
    "    assert find_saddle_points(matrix2) == [(2, 1)], \"Falló el test 2a\"\n",
    "    # En este caso el la misma coordenada es máximo de fila y mínimo de columna y viceversa, con el set solo se añade una vez\n",
    "    assert find_saddle_points(matrix2, only_max_row=False) == [\n",
    "        (2, 1)\n",
    "    ], \"Falló el test 2b\"\n",
    "\n",
    "    # Test 3: matriz vacía\n",
    "    assert find_saddle_points([]) == [], \"Falló el test 3a\"\n",
    "    assert find_saddle_points([], only_max_row=False) == [], \"Falló el test 3b\"\n",
    "\n",
    "    # Test 4: todos los elementos son iguales (todos son puntos de silla)\n",
    "    matrix4 = [[5, 5, 5], [5, 5, 5]]\n",
    "    assert sorted(find_saddle_points(matrix4)) == [\n",
    "        (0, 0),\n",
    "        (0, 1),\n",
    "        (0, 2),\n",
    "        (1, 0),\n",
    "        (1, 1),\n",
    "        (1, 2),\n",
    "    ], \"Falló el test 4a\"\n",
    "    assert sorted(find_saddle_points(matrix4, only_max_row=False)) == [\n",
    "        (0, 0),\n",
    "        (0, 1),\n",
    "        (0, 2),\n",
    "        (1, 0),\n",
    "        (1, 1),\n",
    "        (1, 2),\n",
    "    ], \"Falló el test 4b\"\n",
    "\n",
    "    matrix5 = [[1, 2, 3], [4, 5, 2], [3, 4, 5], [3, 4, 5], [4, 5, 5]]\n",
    "    assert sorted(find_saddle_points(matrix5, only_max_row=False)) == [\n",
    "        (4, 0)\n",
    "    ], \"Falló el test 5b\"\n",
    "\n",
    "    matrix6 = [[1, 4, 3, 3, 4], [2, 5, 4, 4, 5], [3, 2, 5, 5, 5]]\n",
    "    assert sorted(find_saddle_points(matrix6, only_max_row=False)) == [\n",
    "        (0, 4)\n",
    "    ], \"Falló el test 6b\"\n",
    "\n",
    "    matrix7 = [[1, 2, 6], [4, 5, 5], [3, 4, 5], [3, 4, 5], [4, 5, 5]]\n",
    "    assert sorted(find_saddle_points(matrix7, only_max_row=False)) == [\n",
    "        (1, 0),\n",
    "        (1, 2),\n",
    "        (2, 2),\n",
    "        (3, 2),\n",
    "        (4, 0),\n",
    "        (4, 2),\n",
    "    ], \"Falló el test 7b\"\n",
    "\n",
    "    matrix8 = [[1, 4, 3, 3, 4], [2, 5, 4, 4, 5], [6, 5, 5, 5, 5]]\n",
    "    assert sorted(find_saddle_points(matrix8, only_max_row=False)) == [\n",
    "        (0, 1),\n",
    "        (0, 4),\n",
    "        (2, 1),\n",
    "        (2, 2),\n",
    "        (2, 3),\n",
    "        (2, 4),\n",
    "    ], \"Falló el test 8b\"\n",
    "\n",
    "    print(\"Tests pasados con éxito\")\n",
    "\n",
    "\n",
    "test_find_saddle_points()"
   ]
  },
  {
   "cell_type": "markdown",
   "metadata": {},
   "source": [
    "Se ha separado la posibilidad de contemplar o no los mínimos de fila que son máximos de columna, ya que en la mayoría de aplicaciones se interpretan como puntos de silla solo los máximos de fila que son mínimos de columna. También se podrían calcular con el mismo algoritmo haciento la matriz transpuesta.\n",
    "\n",
    "Esta solución está pensada para ser fácil de entender, pero podéis encontrar otras soluciones aquí:\n",
    "https://exercism.org/tracks/python/exercises/saddle-points/solutions\n"
   ]
  },
  {
   "cell_type": "markdown",
   "metadata": {},
   "source": [
    "### Solución con NumPy\n"
   ]
  },
  {
   "cell_type": "code",
   "execution_count": 14,
   "metadata": {},
   "outputs": [
    {
     "name": "stdout",
     "output_type": "stream",
     "text": [
      "Tests pasados con éxito\n"
     ]
    }
   ],
   "source": [
    "def find_saddle_points(matrix: np.array, only_max_row=True):\n",
    "    saddle_points = set()\n",
    "\n",
    "    for irow, row in enumerate(matrix):\n",
    "        max_row = row.max()\n",
    "        for i in [i for i, _ in enumerate(row) if row[i] == max_row]:\n",
    "            if max_row == matrix[:, i].min():\n",
    "                saddle_points.add((irow, i))\n",
    "\n",
    "        if not only_max_row:\n",
    "            min_row = min(row)\n",
    "            for i in [i for i, _ in enumerate(row) if row[i] == min_row]:\n",
    "                if min_row == matrix[:, i].max():\n",
    "                    saddle_points.add((irow, i))\n",
    "\n",
    "    return list(saddle_points)\n",
    "\n",
    "\n",
    "def test_find_saddle_points():\n",
    "    matrix1 = np.array([[1, 2, 3], [4, 5, 6], [7, 8, 9]])\n",
    "    assert find_saddle_points(matrix1) == [(0, 2)], \"Falló el test 1a\"\n",
    "    assert find_saddle_points(matrix1, only_max_row=False) == [\n",
    "        (0, 2),\n",
    "        (2, 0),\n",
    "    ], \"Falló el test 1b\"\n",
    "\n",
    "    matrix2 = np.array([[1, 2, 3], [3, 2, 1], [2, 2, 2]])\n",
    "    assert find_saddle_points(matrix2) == [(2, 1)], \"Falló el test 2a\"\n",
    "    # En este caso el la misma coordenada es máximo de fila y mínimo de columna y viceversa, con el set solo se añade una vez\n",
    "    assert find_saddle_points(matrix2, only_max_row=False) == [\n",
    "        (2, 1)\n",
    "    ], \"Falló el test 2b\"\n",
    "\n",
    "    # Test 3: matriz vacía\n",
    "    assert find_saddle_points(np.array([])) == [], \"Falló el test 3a\"\n",
    "    assert (\n",
    "        find_saddle_points(np.array([]), only_max_row=False) == []\n",
    "    ), \"Falló el test 3b\"\n",
    "\n",
    "    # Test 4: todos los elementos son iguales (todos son puntos de silla)\n",
    "    matrix4 = np.array([[5, 5, 5], [5, 5, 5]])\n",
    "    assert sorted(find_saddle_points(matrix4)) == [\n",
    "        (0, 0),\n",
    "        (0, 1),\n",
    "        (0, 2),\n",
    "        (1, 0),\n",
    "        (1, 1),\n",
    "        (1, 2),\n",
    "    ], \"Falló el test 4a\"\n",
    "    assert sorted(find_saddle_points(matrix4, only_max_row=False)) == [\n",
    "        (0, 0),\n",
    "        (0, 1),\n",
    "        (0, 2),\n",
    "        (1, 0),\n",
    "        (1, 1),\n",
    "        (1, 2),\n",
    "    ], \"Falló el test 4b\"\n",
    "\n",
    "    matrix5 = np.array([[1, 2, 3], [4, 5, 2], [3, 4, 5], [3, 4, 5], [4, 5, 5]])\n",
    "    assert sorted(find_saddle_points(matrix5, only_max_row=False)) == [\n",
    "        (4, 0)\n",
    "    ], \"Falló el test 5b\"\n",
    "\n",
    "    matrix6 = np.array([[1, 4, 3, 3, 4], [2, 5, 4, 4, 5], [3, 2, 5, 5, 5]])\n",
    "    assert sorted(find_saddle_points(matrix6, only_max_row=False)) == [\n",
    "        (0, 4)\n",
    "    ], \"Falló el test 6b\"\n",
    "\n",
    "    matrix7 = np.array([[1, 2, 6], [4, 5, 5], [3, 4, 5], [3, 4, 5], [4, 5, 5]])\n",
    "    assert sorted(find_saddle_points(matrix7, only_max_row=False)) == [\n",
    "        (1, 0),\n",
    "        (1, 2),\n",
    "        (2, 2),\n",
    "        (3, 2),\n",
    "        (4, 0),\n",
    "        (4, 2),\n",
    "    ], \"Falló el test 7b\"\n",
    "\n",
    "    matrix8 = np.array([[1, 4, 3, 3, 4], [2, 5, 4, 4, 5], [6, 5, 5, 5, 5]])\n",
    "    assert sorted(find_saddle_points(matrix8, only_max_row=False)) == [\n",
    "        (0, 1),\n",
    "        (0, 4),\n",
    "        (2, 1),\n",
    "        (2, 2),\n",
    "        (2, 3),\n",
    "        (2, 4),\n",
    "    ], \"Falló el test 8b\"\n",
    "\n",
    "    print(\"Tests pasados con éxito\")\n",
    "\n",
    "\n",
    "test_find_saddle_points()"
   ]
  }
 ],
 "metadata": {
  "kernelspec": {
   "display_name": "base",
   "language": "python",
   "name": "python3"
  },
  "language_info": {
   "codemirror_mode": {
    "name": "ipython",
    "version": 3
   },
   "file_extension": ".py",
   "mimetype": "text/x-python",
   "name": "python",
   "nbconvert_exporter": "python",
   "pygments_lexer": "ipython3",
   "version": "3.12.1"
  }
 },
 "nbformat": 4,
 "nbformat_minor": 2
}
