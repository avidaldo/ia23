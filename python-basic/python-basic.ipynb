{
 "cells": [
  {
   "cell_type": "code",
   "execution_count": 1,
   "metadata": {},
   "outputs": [],
   "source": [
    "# Python Basic"
   ]
  },
  {
   "cell_type": "code",
   "execution_count": 2,
   "metadata": {},
   "outputs": [
    {
     "name": "stdout",
     "output_type": "stream",
     "text": [
      "El entero es mayor que 5\n",
      "1\n",
      "2\n",
      "3\n",
      "4\n",
      "5\n",
      "10\n",
      "9\n",
      "8\n",
      "7\n",
      "6\n",
      "5\n",
      "4\n",
      "3\n",
      "2\n",
      "1\n",
      "La suma es: 5\n",
      "¡Error! División por cero.\n",
      "Hola, soy Juan\n",
      "La raíz cuadrada de 9 es: 3.0\n"
     ]
    }
   ],
   "source": [
    "# Importar Módulos\n",
    "import math\n",
    "\n",
    "# Tipos de Datos y Variables\n",
    "entero = 10\n",
    "flotante = 3.14\n",
    "cadena = \"Hola, mundo!\"\n",
    "lista = [1, 2, 3, 4, 5]\n",
    "tupla = (1, 2, 3)\n",
    "diccionario = {\"a\": 1, \"b\": 2}\n",
    "\n",
    "# Estructuras de Control de Flujo\n",
    "if entero > 5:\n",
    "    print(\"El entero es mayor que 5\")\n",
    "else:\n",
    "    print(\"El entero es menor o igual que 5\")\n",
    "\n",
    "for elemento in lista:\n",
    "    print(elemento)\n",
    "\n",
    "while entero > 0:\n",
    "    print(entero)\n",
    "    entero -= 1\n",
    "\n",
    "\n",
    "# Funciones\n",
    "def suma(a, b):\n",
    "    return a + b\n",
    "\n",
    "\n",
    "resultado = suma(2, 3)\n",
    "print(\"La suma es:\", resultado)\n",
    "\n",
    "# Manejo de Excepciones\n",
    "try:\n",
    "    resultado = 10 / 0\n",
    "except ZeroDivisionError:\n",
    "    print(\"¡Error! División por cero.\")\n",
    "\n",
    "\n",
    "# Programación Orientada a Objetos\n",
    "class Persona:\n",
    "    def __init__(self, nombre, edad):\n",
    "        self.nombre = nombre\n",
    "        self.edad = edad\n",
    "\n",
    "    def saludar(self):\n",
    "        print(\"Hola, soy\", self.nombre)\n",
    "\n",
    "\n",
    "persona1 = Persona(\"Juan\", 30)\n",
    "persona1.saludar()\n",
    "\n",
    "\n",
    "raiz_cuadrada = math.sqrt(9)\n",
    "print(\"La raíz cuadrada de 9 es:\", raiz_cuadrada)"
   ]
  },
  {
   "cell_type": "markdown",
   "metadata": {},
   "source": [
    "### arrays\n"
   ]
  },
  {
   "cell_type": "code",
   "execution_count": null,
   "metadata": {},
   "outputs": [],
   "source": [
    "import numpy as np\n",
    "\n",
    "# Crear un array unidimensional\n",
    "array_unidimensional = np.array([1, 2, 3, 4, 5])\n",
    "print(\"Array unidimensional:\", array_unidimensional)\n",
    "\n",
    "# Crear un array bidimensional\n",
    "array_bidimensional = np.array([[1, 2, 3], [4, 5, 6], [7, 8, 9]])\n",
    "print(\"Array bidimensional:\")\n",
    "print(array_bidimensional)\n",
    "\n",
    "# Acceder a elementos de un array\n",
    "print(\"Primer elemento del array unidimensional:\", array_unidimensional[0])\n",
    "print(\n",
    "    \"Elemento en la segunda fila y primera columna del array bidimensional:\",\n",
    "    array_bidimensional[1, 0],\n",
    ")\n",
    "\n",
    "# Operaciones con arrays\n",
    "array_a = np.array([1, 2, 3])\n",
    "array_b = np.array([4, 5, 6])\n",
    "\n",
    "# Suma de arrays\n",
    "suma_arrays = array_a + array_b\n",
    "print(\"Suma de arrays:\", suma_arrays)\n",
    "\n",
    "# Multiplicación de arrays\n",
    "producto_arrays = array_a * array_b\n",
    "print(\"Producto de arrays:\", producto_arrays)\n",
    "\n",
    "# Operaciones matriciales\n",
    "matriz_a = np.array([[1, 2], [3, 4]])\n",
    "matriz_b = np.array([[5, 6], [7, 8]])\n",
    "\n",
    "# Multiplicación matricial\n",
    "producto_matricial = np.dot(matriz_a, matriz_b)\n",
    "print(\"Producto matricial:\")\n",
    "print(producto_matricial)"
   ]
  }
 ],
 "metadata": {
  "kernelspec": {
   "display_name": "env-py38",
   "language": "python",
   "name": "python3"
  },
  "language_info": {
   "codemirror_mode": {
    "name": "ipython",
    "version": 3
   },
   "file_extension": ".py",
   "mimetype": "text/x-python",
   "name": "python",
   "nbconvert_exporter": "python",
   "pygments_lexer": "ipython3",
   "version": "3.8.18"
  }
 },
 "nbformat": 4,
 "nbformat_minor": 2
}
