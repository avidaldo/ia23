{
 "cells": [
  {
   "cell_type": "markdown",
   "metadata": {},
   "source": [
    "# Clasificación MNIST con red convolucional"
   ]
  },
  {
   "cell_type": "markdown",
   "metadata": {},
   "source": [
    "MNIST es un ejemplo clásico de reconocimiento de dígitos escritos a mano. Se utiliza la base de datos MNIST que contiene 60,000 imágenes de entrenamiento y 10,000 imágenes de prueba. Cada imagen es de 28x28 pixeles y cada pixel tiene un valor entre 0 y 255.\n",
    "\n",
    "Es el mismo ejemplo con el que se explica la [teoría sobre redes neuronales en el video de 3Brown1Blue](https://www.youtube.com/playlist?list=PLZHQObOWTQDNU6R1_67000Dx_ZCJB-3pi) ([versión doblada a español](https://www.youtube.com/watch?v=jKCQsndqEGQ))."
   ]
  },
  {
   "cell_type": "code",
   "execution_count": 6,
   "metadata": {},
   "outputs": [],
   "source": [
    "import torch\n",
    "from torch import nn\n",
    "from torch.utils.data import DataLoader\n",
    "from torchvision import datasets, transforms\n",
    "from torchvision import datasets, transforms"
   ]
  },
  {
   "cell_type": "markdown",
   "metadata": {},
   "source": [
    "## Carga del dataset"
   ]
  },
  {
   "cell_type": "markdown",
   "metadata": {},
   "source": [
    "A menudo usaremos más de una transformación para preprocesar los datos. Por ejemplo, en el caso de las imágenes, a menudo se normalizan y se redimensionan. Para hacer esto de manera eficiente, podemos usar la clase `Compose` de `torchvision.transforms`. "
   ]
  },
  {
   "cell_type": "code",
   "execution_count": 7,
   "metadata": {},
   "outputs": [],
   "source": [
    "# Definimos las transformaciones para preprocesado de las imágenes\n",
    "transform = transforms.Compose([transforms.ToTensor(),])\n",
    "\n",
    "# Cargamos el dataset MNIST\n",
    "train_data = datasets.MNIST('./data', train=True, download=True, transform=transform)\n",
    "test_data = datasets.MNIST('./data', train=False, download=True, transform=transform)\n",
    "\n",
    "# Creamos los dataloaders\n",
    "train_loader = DataLoader(train_data, batch_size=64, shuffle=True)\n",
    "test_loader = DataLoader(test_data, batch_size=64, shuffle=False)"
   ]
  },
  {
   "cell_type": "markdown",
   "metadata": {},
   "source": [
    "## Definición del modelo"
   ]
  },
  {
   "cell_type": "code",
   "execution_count": 8,
   "metadata": {},
   "outputs": [],
   "source": [
    "from torch.nn import functional as F\n",
    "\n",
    "class CNN(nn.Module): # Definimos la red neuronal convolucional\n",
    "  def __init__(self):\n",
    "    super().__init__()\n",
    "    self.conv1 = nn.Conv2d(1, 32, kernel_size=3, padding=1) \n",
    "    self.pool = nn.MaxPool2d(2, 2)\n",
    "    self.conv2 = nn.Conv2d(32, 64, kernel_size=3, padding=1)\n",
    "    self.fc1 = nn.Linear(7 * 7 * 64, 128)\n",
    "    self.fc2 = nn.Linear(128, 10)\n",
    "\n",
    "  def forward(self, x):\n",
    "    x = self.pool(F.relu(self.conv1(x)))\n",
    "    x = self.pool(F.relu(self.conv2(x)))\n",
    "    x = x.view(-1, 7 * 7 * 64) # Aplanamiento tras las capas convolucionales\n",
    "    x = F.relu(self.fc1(x))\n",
    "    x = F.log_softmax(self.fc2(x), dim=1)  # Use log_softmax for cross-entropy loss\n",
    "    return x\n",
    "  \n",
    "model = CNN() # Instanciamos la red neuronal"
   ]
  },
  {
   "cell_type": "markdown",
   "metadata": {},
   "source": [
    "## Entrenamiento del modelo"
   ]
  },
  {
   "cell_type": "markdown",
   "metadata": {},
   "source": [
    "### Definición de la función de pérdida y el optimizador"
   ]
  },
  {
   "cell_type": "markdown",
   "metadata": {},
   "source": [
    "Definimos la función de perdida y el optimizador. En este caso usaremos el optimizador `optim.Adam`. Adam es una variante del descenso de gradiente estocástico que calcula tasas de aprendizaje individuales para diferentes parámetros."
   ]
  },
  {
   "cell_type": "code",
   "execution_count": 9,
   "metadata": {},
   "outputs": [],
   "source": [
    "criterion = nn.CrossEntropyLoss()\n",
    "optimizer = torch.optim.Adam(model.parameters())"
   ]
  },
  {
   "cell_type": "markdown",
   "metadata": {},
   "source": [
    "### Entrenamiento"
   ]
  },
  {
   "cell_type": "code",
   "execution_count": 10,
   "metadata": {},
   "outputs": [
    {
     "name": "stdout",
     "output_type": "stream",
     "text": [
      "Epoch [1/10], Step [100/938], Loss: 0.1327\n",
      "Epoch [1/10], Step [200/938], Loss: 0.1014\n",
      "Epoch [1/10], Step [300/938], Loss: 0.2550\n",
      "Epoch [1/10], Step [400/938], Loss: 0.1968\n",
      "Epoch [1/10], Step [500/938], Loss: 0.0691\n",
      "Epoch [1/10], Step [600/938], Loss: 0.0590\n",
      "Epoch [1/10], Step [700/938], Loss: 0.0292\n",
      "Epoch [1/10], Step [800/938], Loss: 0.0677\n",
      "Epoch [1/10], Step [900/938], Loss: 0.0063\n",
      "Epoch [2/10], Step [100/938], Loss: 0.0157\n",
      "Epoch [2/10], Step [200/938], Loss: 0.0326\n",
      "Epoch [2/10], Step [300/938], Loss: 0.0450\n",
      "Epoch [2/10], Step [400/938], Loss: 0.0234\n",
      "Epoch [2/10], Step [500/938], Loss: 0.0143\n",
      "Epoch [2/10], Step [600/938], Loss: 0.0302\n",
      "Epoch [2/10], Step [700/938], Loss: 0.0092\n",
      "Epoch [2/10], Step [800/938], Loss: 0.0081\n",
      "Epoch [2/10], Step [900/938], Loss: 0.0205\n",
      "Epoch [3/10], Step [100/938], Loss: 0.0077\n",
      "Epoch [3/10], Step [200/938], Loss: 0.0703\n",
      "Epoch [3/10], Step [300/938], Loss: 0.0136\n",
      "Epoch [3/10], Step [400/938], Loss: 0.0555\n",
      "Epoch [3/10], Step [500/938], Loss: 0.0825\n",
      "Epoch [3/10], Step [600/938], Loss: 0.0292\n",
      "Epoch [3/10], Step [700/938], Loss: 0.0817\n",
      "Epoch [3/10], Step [800/938], Loss: 0.0063\n",
      "Epoch [3/10], Step [900/938], Loss: 0.0028\n",
      "Epoch [4/10], Step [100/938], Loss: 0.0023\n",
      "Epoch [4/10], Step [200/938], Loss: 0.0481\n",
      "Epoch [4/10], Step [300/938], Loss: 0.0150\n",
      "Epoch [4/10], Step [400/938], Loss: 0.0838\n",
      "Epoch [4/10], Step [500/938], Loss: 0.0920\n",
      "Epoch [4/10], Step [600/938], Loss: 0.0032\n",
      "Epoch [4/10], Step [700/938], Loss: 0.0339\n",
      "Epoch [4/10], Step [800/938], Loss: 0.0029\n",
      "Epoch [4/10], Step [900/938], Loss: 0.0450\n",
      "Epoch [5/10], Step [100/938], Loss: 0.0096\n",
      "Epoch [5/10], Step [200/938], Loss: 0.0274\n",
      "Epoch [5/10], Step [300/938], Loss: 0.0165\n",
      "Epoch [5/10], Step [400/938], Loss: 0.0026\n",
      "Epoch [5/10], Step [500/938], Loss: 0.0375\n",
      "Epoch [5/10], Step [600/938], Loss: 0.0308\n",
      "Epoch [5/10], Step [700/938], Loss: 0.0011\n",
      "Epoch [5/10], Step [800/938], Loss: 0.0061\n",
      "Epoch [5/10], Step [900/938], Loss: 0.0049\n"
     ]
    }
   ],
   "source": [
    "model.train() # Ponemos el modelo en modo entrenamiento (no es necesario por ser el comportamiento por defecto, pero es una buena práctica)\n",
    "\n",
    "for epoch in range(5): # Definimos 10 epochs\n",
    "  \n",
    "  for i, (images, labels) in enumerate(train_loader):\n",
    "    # Forward pass\n",
    "    outputs = model(images)\n",
    "    loss = criterion(outputs, labels)\n",
    "\n",
    "    # Backward pass and optimize\n",
    "    optimizer.zero_grad()\n",
    "    loss.backward()\n",
    "    optimizer.step()\n",
    "\n",
    "    if (i + 1) % 100 == 0:\n",
    "      print(f'Epoch [{epoch+1}/{10}], Step [{i+1}/{len(train_loader)}], Loss: {loss.item():.4f}')"
   ]
  },
  {
   "cell_type": "markdown",
   "metadata": {},
   "source": [
    "## Evaluación del modelo"
   ]
  },
  {
   "cell_type": "code",
   "execution_count": 11,
   "metadata": {},
   "outputs": [
    {
     "name": "stdout",
     "output_type": "stream",
     "text": [
      "Accuracy of the network on the 10000 test images: 99.01%\n"
     ]
    }
   ],
   "source": [
    "with torch.no_grad():\n",
    "  correct = 0\n",
    "  total = 0\n",
    "  for images, labels in test_loader:\n",
    "    outputs = model(images)\n",
    "    _, predicted = torch.max(outputs.data, 1)\n",
    "    total += labels.size(0)\n",
    "    correct += (predicted == labels).sum().item()\n",
    "  print(f'Accuracy of the network on the 10000 test images: {100 * correct / total:.2f}%')"
   ]
  },
  {
   "cell_type": "markdown",
   "metadata": {},
   "source": [
    "- https://dudeperf3ct.github.io/cnn/mnist/2018/10/17/Force-of-Convolutional-Neural-Networks/"
   ]
  }
 ],
 "metadata": {
  "kernelspec": {
   "display_name": "base",
   "language": "python",
   "name": "python3"
  },
  "language_info": {
   "codemirror_mode": {
    "name": "ipython",
    "version": 3
   },
   "file_extension": ".py",
   "mimetype": "text/x-python",
   "name": "python",
   "nbconvert_exporter": "python",
   "pygments_lexer": "ipython3",
   "version": "3.11.5"
  }
 },
 "nbformat": 4,
 "nbformat_minor": 2
}
